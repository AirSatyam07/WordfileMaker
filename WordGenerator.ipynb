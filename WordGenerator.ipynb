{
 "cells": [
  {
   "cell_type": "code",
   "execution_count": 5,
   "id": "9b28273f",
   "metadata": {
    "scrolled": true
   },
   "outputs": [
    {
     "name": "stdout",
     "output_type": "stream",
     "text": [
      "Collecting openpyxl\n",
      "  Downloading openpyxl-3.1.2-py2.py3-none-any.whl (249 kB)\n",
      "     ---------------------------------------- 0.0/250.0 kB ? eta -:--:--\n",
      "     ------ -------------------------------- 41.0/250.0 kB 1.9 MB/s eta 0:00:01\n",
      "     ------------------ ------------------- 122.9/250.0 kB 1.8 MB/s eta 0:00:01\n",
      "     ------------------------------- ------ 204.8/250.0 kB 1.8 MB/s eta 0:00:01\n",
      "     -------------------------------------- 250.0/250.0 kB 1.9 MB/s eta 0:00:00\n",
      "Collecting et-xmlfile (from openpyxl)\n",
      "  Downloading et_xmlfile-1.1.0-py3-none-any.whl (4.7 kB)\n",
      "Installing collected packages: et-xmlfile, openpyxl\n",
      "Successfully installed et-xmlfile-1.1.0 openpyxl-3.1.2\n",
      "Note: you may need to restart the kernel to use updated packages.\n"
     ]
    },
    {
     "name": "stderr",
     "output_type": "stream",
     "text": [
      "\n",
      "[notice] A new release of pip is available: 23.2 -> 23.3.1\n",
      "[notice] To update, run: python.exe -m pip install --upgrade pip\n"
     ]
    }
   ],
   "source": [
    "pip install python-docx\n",
    "pip install openpyxl\n",
    "from docx.shared import Pt\n",
    "import os\n",
    "import pandas as pd\n",
    "from docx import Document\n",
    "\n",
    "\n",
    "# Read Excel data\n",
    "excel_data = pd.read_excel('eee.xlsx')\n",
    "\n",
    "output_folder = 'neww'\n",
    "# Load the template\n",
    "template_path = 'Requestletter.docx'\n",
    "template_doc = Document(template_path)\n",
    "\n",
    "name_font = 'Times New Roman'\n",
    "name_size = Pt(14)\n",
    "\n",
    "roll_no_font ='Times New Roman'\n",
    "roll_no_size = Pt(12)\n",
    "\n",
    "# Iterate through each row in Excel\n",
    "for index,row in excel_data.iterrows():\n",
    "    name = row['name']\n",
    "    roll_no = row['roll']\n",
    "    \n",
    "    \n",
    "\n",
    "    # Create a new document based on the template\n",
    "    new_doc = Document(template_path)\n",
    "\n",
    "    # Replace placeholders with actual data\n",
    "    for paragraph in new_doc.paragraphs:\n",
    "        if '<<fullname>>' in paragraph.text:\n",
    "            paragraph.text = paragraph.text.replace('<<fullname>>', name)\n",
    "            for run in paragraph.runs:\n",
    "                run.font.name = name_font\n",
    "                run.font.size = name_size\n",
    "        if '<<rollno>>' in paragraph.text:\n",
    "            paragraph.text = paragraph.text.replace('<<rollno>>', str(roll_no))\n",
    "            for run in paragraph.runs:\n",
    "                run.font.name = roll_no_font\n",
    "                run.font.size = roll_no_size\n",
    "\n",
    "    # Save the updated document with a unique identifier\n",
    "    output_path = os.path.join(output_folder, f\"{roll_no}_application.docx\")\n",
    "    new_doc.save(output_path)\n",
    "\n"
   ]
  }
 ],
 "metadata": {
  "kernelspec": {
   "display_name": "Python 3 (ipykernel)",
   "language": "python",
   "name": "python3"
  },
  "language_info": {
   "codemirror_mode": {
    "name": "ipython",
    "version": 3
   },
   "file_extension": ".py",
   "mimetype": "text/x-python",
   "name": "python",
   "nbconvert_exporter": "python",
   "pygments_lexer": "ipython3",
   "version": "3.11.3"
  }
 },
 "nbformat": 4,
 "nbformat_minor": 5
}
